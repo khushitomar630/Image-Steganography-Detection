{
 "cells": [
  {
   "cell_type": "code",
   "execution_count": 1,
   "id": "5e9a1445-6bbf-49e0-965f-614cff1b22ce",
   "metadata": {},
   "outputs": [
    {
     "name": "stdout",
     "output_type": "stream",
     "text": [
      "Defaulting to user installation because normal site-packages is not writeable\n",
      "Requirement already satisfied: pillow in c:\\programdata\\anaconda3\\lib\\site-packages (10.4.0)\n",
      "Requirement already satisfied: stegano in c:\\users\\dell\\appdata\\roaming\\python\\python312\\site-packages (0.11.5)\n",
      "Requirement already satisfied: crayons>=0.4.0 in c:\\users\\dell\\appdata\\roaming\\python\\python312\\site-packages (from stegano) (0.4.0)\n",
      "Requirement already satisfied: opencv-python>=4.8.1.78 in c:\\users\\dell\\appdata\\roaming\\python\\python312\\site-packages (from stegano) (4.11.0.86)\n",
      "Requirement already satisfied: piexif>=1.1.3 in c:\\users\\dell\\appdata\\roaming\\python\\python312\\site-packages (from stegano) (1.1.3)\n",
      "Requirement already satisfied: colorama in c:\\programdata\\anaconda3\\lib\\site-packages (from crayons>=0.4.0->stegano) (0.4.6)\n",
      "Requirement already satisfied: numpy>=1.21.2 in c:\\programdata\\anaconda3\\lib\\site-packages (from opencv-python>=4.8.1.78->stegano) (1.26.4)\n"
     ]
    }
   ],
   "source": [
    "!pip install pillow stegano\n",
    "import os\n",
    "import tkinter as tk\n",
    "from tkinter import filedialog, messagebox, simpledialog\n",
    "from PIL import Image, ImageTk\n",
    "from stegano.lsb import hide, reveal"
   ]
  },
  {
   "cell_type": "code",
   "execution_count": 2,
   "id": "061fcad9-d340-4e96-a954-6986ea230edc",
   "metadata": {},
   "outputs": [],
   "source": [
    "root = tk.Tk()\n",
    "root.title(\"Image Steganography\")\n",
    "root.geometry(\"600x400\")\n",
    "root.config(bg=\"lightgray\")"
   ]
  },
  {
   "cell_type": "code",
   "execution_count": 3,
   "id": "9ee94cb4-7378-4f39-a882-91084f04c3ad",
   "metadata": {},
   "outputs": [],
   "source": [
    "def encode_message():\n",
    "    file_path = filedialog.askopenfilename(title=\"Select Image\", filetypes=[\n",
    "        (\"Image Files\", \"*.png;*.jpg;*.jpeg;*.bmp\")\n",
    "    ])\n",
    "    if not file_path:\n",
    "        return\n",
    "\n",
    "    message = simpledialog.askstring(\"Input Message\", \"Enter the secret message:\")\n",
    "    if not message:\n",
    "        return\n",
    "\n",
    "    output_path = filedialog.asksaveasfilename(defaultextension=\".png\", filetypes=[\n",
    "        (\"PNG Files\", \"*.png\"),\n",
    "        (\"JPEG Files\", \"*.jpg;*.jpeg\"),\n",
    "        (\"Bitmap Files\", \"*.bmp\")\n",
    "    ])\n",
    "    if not output_path:\n",
    "        return\n",
    "\n",
    "    if not output_path.lower().endswith(\".png\"):\n",
    "        output_path += \".png\"\n",
    "\n",
    "    try:\n",
    "        secret_image = hide(file_path, message)  # Hides message inside the image\n",
    "        secret_image.save(output_path)  # Save the encoded image\n",
    "        messagebox.showinfo(\"Success\", f\"Message encoded successfully!\\nSaved as: {output_path}\")\n",
    "    except Exception as e:\n",
    "        messagebox.showerror(\"Error\", f\"Encoding failed: {str(e)}\")\n"
   ]
  },
  {
   "cell_type": "code",
   "execution_count": 4,
   "id": "ddb33a9d-e9f4-4e3b-944f-4ccfe70693d8",
   "metadata": {},
   "outputs": [],
   "source": [
    "def decode_message():\n",
    "    file_path = filedialog.askopenfilename(title=\"Select Encoded Image\", filetypes=[\n",
    "        (\"Image Files\", \"*.png;*.jpg;*.jpeg;*.bmp\")\n",
    "    ])\n",
    "    if not file_path:\n",
    "        return\n",
    "\n",
    "    try:\n",
    "        decoded_message = reveal(file_path)  # Extract the hidden message\n",
    "        if decoded_message:\n",
    "            messagebox.showinfo(\"Decoded Message\", f\"Hidden message:\\n{decoded_message}\")\n",
    "        else:\n",
    "            messagebox.showwarning(\"No Hidden Message\", \"No hidden message found in the image.\")\n",
    "    except Exception as e:\n",
    "        messagebox.showerror(\"Error\", f\"Decoding failed: {str(e)}\")\n"
   ]
  },
  {
   "cell_type": "code",
   "execution_count": 5,
   "id": "2e313a81-f6ca-45ba-afe8-70f3efc65e73",
   "metadata": {},
   "outputs": [],
   "source": [
    "encode_btn = tk.Button(root, text=\"Encode Message\", command=encode_message, width=20, bg=\"lightblue\")\n",
    "encode_btn.pack(pady=10)\n",
    "\n",
    "decode_btn = tk.Button(root, text=\"Decode Message\", command=decode_message, width=20, bg=\"lightgreen\")\n",
    "decode_btn.pack(pady=10)\n"
   ]
  },
  {
   "cell_type": "code",
   "execution_count": 7,
   "id": "3ce6d9ba-e937-4a74-8cda-fef8b4bb2360",
   "metadata": {},
   "outputs": [],
   "source": [
    "root.mainloop()"
   ]
  }
 ],
 "metadata": {
  "kernelspec": {
   "display_name": "Python 3 (ipykernel)",
   "language": "python",
   "name": "python3"
  },
  "language_info": {
   "codemirror_mode": {
    "name": "ipython",
    "version": 3
   },
   "file_extension": ".py",
   "mimetype": "text/x-python",
   "name": "python",
   "nbconvert_exporter": "python",
   "pygments_lexer": "ipython3",
   "version": "3.12.7"
  }
 },
 "nbformat": 4,
 "nbformat_minor": 5
}
