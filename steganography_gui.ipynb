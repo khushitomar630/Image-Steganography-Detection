{
 "cells": [
  {
   "cell_type": "code",
   "execution_count": 1,
   "id": "061fcad9-d340-4e96-a954-6986ea230edc",
   "metadata": {},
   "outputs": [
    {
     "name": "stdout",
     "output_type": "stream",
     "text": [
      "Defaulting to user installation because normal site-packages is not writeable\n",
      "Requirement already satisfied: pillow in c:\\programdata\\anaconda3\\lib\\site-packages (10.4.0)\n",
      "Requirement already satisfied: stegano in c:\\users\\dell\\appdata\\roaming\\python\\python312\\site-packages (0.11.5)\n",
      "Requirement already satisfied: crayons>=0.4.0 in c:\\users\\dell\\appdata\\roaming\\python\\python312\\site-packages (from stegano) (0.4.0)\n",
      "Requirement already satisfied: opencv-python>=4.8.1.78 in c:\\users\\dell\\appdata\\roaming\\python\\python312\\site-packages (from stegano) (4.11.0.86)\n",
      "Requirement already satisfied: piexif>=1.1.3 in c:\\users\\dell\\appdata\\roaming\\python\\python312\\site-packages (from stegano) (1.1.3)\n",
      "Requirement already satisfied: colorama in c:\\programdata\\anaconda3\\lib\\site-packages (from crayons>=0.4.0->stegano) (0.4.6)\n",
      "Requirement already satisfied: numpy>=1.21.2 in c:\\programdata\\anaconda3\\lib\\site-packages (from opencv-python>=4.8.1.78->stegano) (1.26.4)\n"
     ]
    },
    {
     "name": "stderr",
     "output_type": "stream",
     "text": [
      "WARNING: Ignoring invalid distribution ~ensorflow (C:\\Users\\DELL\\AppData\\Roaming\\Python\\Python312\\site-packages)\n",
      "WARNING: Ignoring invalid distribution ~ensorflow (C:\\Users\\DELL\\AppData\\Roaming\\Python\\Python312\\site-packages)\n",
      "WARNING: Ignoring invalid distribution ~ensorflow (C:\\Users\\DELL\\AppData\\Roaming\\Python\\Python312\\site-packages)\n",
      "WARNING: Ignoring invalid distribution ~ensorflow (C:\\Users\\DELL\\AppData\\Roaming\\Python\\Python312\\site-packages)\n",
      "WARNING: Ignoring invalid distribution ~ensorflow (C:\\Users\\DELL\\AppData\\Roaming\\Python\\Python312\\site-packages)\n",
      "WARNING: Ignoring invalid distribution ~ensorflow (C:\\Users\\DELL\\AppData\\Roaming\\Python\\Python312\\site-packages)\n"
     ]
    }
   ],
   "source": [
    "!pip install pillow stegano\n",
    "import os\n",
    "import tkinter as tk\n",
    "from tkinter import filedialog, messagebox, simpledialog\n",
    "from PIL import Image, ImageTk\n",
    "from stegano.lsb import hide, reveal"
   ]
  },
  {
   "cell_type": "code",
   "execution_count": 2,
   "id": "51094e05-fdc2-45ea-bf06-0028b9b52133",
   "metadata": {},
   "outputs": [],
   "source": [
    "root = tk.Tk()\n",
    "root.title(\"Image Steganography\")\n",
    "root.geometry(\"600x400\")\n",
    "root.config(bg=\"lightgray\")"
   ]
  },
  {
   "cell_type": "code",
   "execution_count": 3,
   "id": "9ee94cb4-7378-4f39-a882-91084f04c3ad",
   "metadata": {},
   "outputs": [],
   "source": [
    "def encode_message():\n",
    "    file_path = filedialog.askopenfilename(title=\"Select Image\", filetypes=[\n",
    "        (\"Image Files\", \"*.png;*.jpg;*.jpeg;*.bmp\")\n",
    "    ])\n",
    "    if not file_path:\n",
    "        return\n",
    "\n",
    "    message = simpledialog.askstring(\"Input Message\", \"Enter the secret message:\")\n",
    "    if not message:\n",
    "        return\n",
    "\n",
    "    output_path = filedialog.asksaveasfilename(defaultextension=\".png\", filetypes=[\n",
    "        (\"PNG Files\", \"*.png\"),\n",
    "        (\"JPEG Files\", \"*.jpg;*.jpeg\"),\n",
    "        (\"Bitmap Files\", \"*.bmp\")\n",
    "    ])\n",
    "    if not output_path:\n",
    "        return\n",
    "\n",
    "    if not output_path.lower().endswith(\".png\"):\n",
    "        output_path += \".png\"\n",
    "\n",
    "    try:\n",
    "        secret_image = hide(file_path, message)  # Hides message inside the image\n",
    "        secret_image.save(output_path)  # Save the encoded image\n",
    "        messagebox.showinfo(\"Success\", f\"Message encoded successfully!\\nSaved as: {output_path}\")\n",
    "    except Exception as e:\n",
    "        messagebox.showerror(\"Error\", f\"Encoding failed: {str(e)}\")\n"
   ]
  },
  {
   "cell_type": "code",
   "execution_count": 4,
   "id": "ddb33a9d-e9f4-4e3b-944f-4ccfe70693d8",
   "metadata": {},
   "outputs": [],
   "source": [
    "def decode_message():\n",
    "    file_path = filedialog.askopenfilename(title=\"Select Encoded Image\", filetypes=[\n",
    "        (\"Image Files\", \"*.png;*.jpg;*.jpeg;*.bmp\")\n",
    "    ])\n",
    "    if not file_path:\n",
    "        return\n",
    "\n",
    "    try:\n",
    "        decoded_message = reveal(file_path)  # Extract the hidden message\n",
    "        if decoded_message:\n",
    "            messagebox.showinfo(\"Decoded Message\", f\"Hidden message:\\n{decoded_message}\")\n",
    "        else:\n",
    "            messagebox.showwarning(\"No Hidden Message\", \"No hidden message found in the image.\")\n",
    "    except Exception as e:\n",
    "        messagebox.showerror(\"Error\", f\"Decoding failed: {str(e)}\")\n"
   ]
  },
  {
   "cell_type": "code",
   "execution_count": 5,
   "id": "2e313a81-f6ca-45ba-afe8-70f3efc65e73",
   "metadata": {},
   "outputs": [],
   "source": [
    "encode_btn = tk.Button(root, text=\"Encode Message\", command=encode_message, width=20, bg=\"lightblue\")\n",
    "encode_btn.pack(pady=10)\n",
    "\n",
    "decode_btn = tk.Button(root, text=\"Decode Message\", command=decode_message, width=20, bg=\"lightgreen\")\n",
    "decode_btn.pack(pady=10)\n"
   ]
  },
  {
   "cell_type": "code",
   "execution_count": null,
   "id": "3ce6d9ba-e937-4a74-8cda-fef8b4bb2360",
   "metadata": {},
   "outputs": [],
   "source": [
    "root.mainloop()"
   ]
  },
  {
   "cell_type": "code",
   "execution_count": 7,
   "id": "b95edda8-4525-4ca5-b756-f7b9b9668bbd",
   "metadata": {},
   "outputs": [],
   "source": [
    "import os\n",
    "import cv2\n",
    "import numpy as np"
   ]
  },
  {
   "cell_type": "code",
   "execution_count": 8,
   "id": "5f62e88c-4282-48ff-a96c-14c15be22595",
   "metadata": {},
   "outputs": [],
   "source": [
    "stego_folder = \"C:/Users/DELL/Downloads/archive (1)/Stego-pvd-dataset/train/stegoTrain\"\n",
    "clean_folder = \"C:/Users/DELL/Downloads/archive (1)/Stego-pvd-dataset/train/cleanTrain\""
   ]
  },
  {
   "cell_type": "code",
   "execution_count": 9,
   "id": "163ef523-0c2b-45e1-852f-9be4a08b14bf",
   "metadata": {},
   "outputs": [],
   "source": [
    "images = []\n",
    "labels = []"
   ]
  },
  {
   "cell_type": "code",
   "execution_count": 10,
   "id": "91e8e673-45a5-439f-a530-196de46274b4",
   "metadata": {},
   "outputs": [
    {
     "name": "stdout",
     "output_type": "stream",
     "text": [
      "Total images loaded: 4050\n",
      "Image shape: (128, 128, 3)\n",
      "Labels distribution: [  55 3995]\n"
     ]
    }
   ],
   "source": [
    "img_size = (128, 128)\n",
    "\n",
    "# Function to load images from a folder\n",
    "def load_images_from_folder(folder, label):\n",
    "    for filename in os.listdir(folder):\n",
    "        if filename.lower().endswith(('.png', '.jpg', '.jpeg', '.bmp')):\n",
    "            img_path = os.path.join(folder, filename)\n",
    "            img = cv2.imread(img_path)\n",
    "            if img is not None:\n",
    "                img = cv2.resize(img, img_size)\n",
    "                images.append(img)\n",
    "                labels.append(label)\n",
    "\n",
    "# Load stego images with label 1\n",
    "load_images_from_folder(stego_folder, label=1)\n",
    "\n",
    "# Load clean images with label 0\n",
    "load_images_from_folder(clean_folder, label=0)\n",
    "\n",
    "# Convert to NumPy arrays\n",
    "images = np.array(images)\n",
    "labels = np.array(labels)\n",
    "\n",
    "print(f\"Total images loaded: {len(images)}\")\n",
    "print(f\"Image shape: {images[0].shape}\")\n",
    "print(f\"Labels distribution: {np.bincount(labels)}\")"
   ]
  },
  {
   "cell_type": "code",
   "execution_count": 11,
   "id": "c67dfa7d-98b1-4579-ba1c-01160538e853",
   "metadata": {},
   "outputs": [],
   "source": [
    "# Flatten the image data for SVM\n",
    "X = images.reshape(images.shape[0], -1)"
   ]
  },
  {
   "cell_type": "code",
   "execution_count": 12,
   "id": "ec0182b8-34e9-4554-b00d-21c64a10a82b",
   "metadata": {},
   "outputs": [],
   "source": [
    "from sklearn.model_selection import train_test_split\n",
    "from sklearn.preprocessing import StandardScaler"
   ]
  },
  {
   "cell_type": "code",
   "execution_count": 14,
   "id": "0b20ba38-6ef7-4c3e-815a-d2b8d80a57f9",
   "metadata": {},
   "outputs": [],
   "source": [
    "X_train, X_test, y_train, y_test = train_test_split(X, labels, test_size=0.2, random_state=42, stratify=labels)"
   ]
  },
  {
   "cell_type": "code",
   "execution_count": 15,
   "id": "1e55dde0-85be-4b98-a9be-8ddc891d3187",
   "metadata": {},
   "outputs": [],
   "source": [
    "scaler = StandardScaler()\n",
    "X_scaled = scaler.fit_transform(X)"
   ]
  },
  {
   "cell_type": "code",
   "execution_count": 16,
   "id": "ce2417f0-ebae-4af0-8b77-6a8bf4812d13",
   "metadata": {},
   "outputs": [],
   "source": [
    "from sklearn.decomposition import PCA"
   ]
  },
  {
   "cell_type": "code",
   "execution_count": 17,
   "id": "38b69a02-5973-4296-8f25-48516b3b030b",
   "metadata": {},
   "outputs": [],
   "source": [
    "# Apply PCA to reduce dimensions\n",
    "pca = PCA(n_components=100)  # Reduce to 100 features\n",
    "X_pca = pca.fit_transform(X_scaled)"
   ]
  },
  {
   "cell_type": "code",
   "execution_count": 18,
   "id": "2215b059-0939-4075-9e1a-f4d870ed8fb0",
   "metadata": {},
   "outputs": [],
   "source": [
    "X_train_pca, X_test_pca, y_train_pca, y_test_pca = train_test_split(\n",
    "    X_pca, labels, test_size=0.2, random_state=42, stratify=labels\n",
    ")"
   ]
  },
  {
   "cell_type": "code",
   "execution_count": 19,
   "id": "57760d64-4814-4d9e-bd93-7330be260635",
   "metadata": {},
   "outputs": [],
   "source": [
    "from sklearn.svm import SVC\n",
    "from sklearn.metrics import accuracy_score, classification_report, confusion_matrix"
   ]
  },
  {
   "cell_type": "code",
   "execution_count": 20,
   "id": "0ab19598-5cc7-4207-afed-b85c39c33464",
   "metadata": {},
   "outputs": [],
   "source": [
    "# Initialize and train the SVM model\n",
    "# We're using a linear kernel with default regularization\n",
    "svm_model = SVC(kernel='linear', C=1.0)\n",
    "svm_model.fit(X_train_pca, y_train_pca)\n",
    "\n",
    "# Make predictions on the test set\n",
    "y_pred_pca = svm_model.predict(X_test_pca)"
   ]
  },
  {
   "cell_type": "code",
   "execution_count": 21,
   "id": "0b92f388-4bcd-41c4-8d2f-f6a0a89674cd",
   "metadata": {},
   "outputs": [
    {
     "name": "stdout",
     "output_type": "stream",
     "text": [
      "\n",
      "SVM Accuracy with PCA: 97.65%\n",
      "\n",
      "Classification Report:\n",
      "               precision    recall  f1-score   support\n",
      "\n",
      "           0       0.32      0.64      0.42        11\n",
      "           1       0.99      0.98      0.99       799\n",
      "\n",
      "    accuracy                           0.98       810\n",
      "   macro avg       0.66      0.81      0.71       810\n",
      "weighted avg       0.99      0.98      0.98       810\n",
      "\n",
      "Confusion Matrix:\n",
      " [[  7   4]\n",
      " [ 15 784]]\n"
     ]
    }
   ],
   "source": [
    "#  Evaluate the model performance\n",
    "print(f\"\\nSVM Accuracy with PCA: {accuracy_score(y_test_pca, y_pred_pca) * 100:.2f}%\")\n",
    "print(\"\\nClassification Report:\\n\", classification_report(y_test_pca, y_pred_pca))\n",
    "print(\"Confusion Matrix:\\n\", confusion_matrix(y_test_pca, y_pred_pca))"
   ]
  },
  {
   "cell_type": "code",
   "execution_count": 22,
   "id": "3a34e104-5287-4370-b6cb-7869949d9338",
   "metadata": {},
   "outputs": [],
   "source": [
    "import seaborn as sns\n",
    "import matplotlib.pyplot as plt\n",
    "from sklearn.metrics import confusion_matrix"
   ]
  },
  {
   "cell_type": "code",
   "execution_count": 23,
   "id": "5c2b57ae-173d-4037-b4bc-e5572d789259",
   "metadata": {},
   "outputs": [
    {
     "data": {
      "image/png": "[encoded data removed]",
      "text/plain": [
       "<Figure size 600x400 with 2 Axes>"
      ]
     },
     "metadata": {},
     "output_type": "display_data"
    }
   ],
   "source": [
    "cm = confusion_matrix(y_test_pca, y_pred_pca)\n",
    "class_names = ['Clean', 'Stego']\n",
    "\n",
    "plt.figure(figsize=(6, 4))\n",
    "sns.heatmap(cm, annot=True, fmt='d', cmap='Blues',\n",
    "            xticklabels=class_names, yticklabels=class_names)\n",
    "plt.xlabel('Predicted')\n",
    "plt.ylabel('Actual')\n",
    "plt.title('Confusion Matrix - Steganography Detection')\n",
    "plt.show()"
   ]
  },
  {
   "cell_type": "code",
   "execution_count": 24,
   "id": "963a87c2-58a5-4d7a-973e-b5554333a2ab",
   "metadata": {},
   "outputs": [
    {
     "name": "stdout",
     "output_type": "stream",
     "text": [
      "2.19.0\n"
     ]
    }
   ],
   "source": [
    "import tensorflow as tf\n",
    "print(tf.__version__)"
   ]
  },
  {
   "cell_type": "code",
   "execution_count": 25,
   "id": "33bfebc4-c158-4389-8b3f-9e097621fe9d",
   "metadata": {},
   "outputs": [],
   "source": [
    "from tensorflow.keras.layers import Input, Conv2D, MaxPooling2D, UpSampling2D, Flatten, Dense, Dropout\n",
    "from tensorflow.keras.models import Model\n",
    "from tensorflow.keras.utils import to_categorical\n",
    "from sklearn.metrics import classification_report, confusion_matrix, accuracy_score"
   ]
  },
  {
   "cell_type": "code",
   "execution_count": 26,
   "id": "5b1bf9d2-9cfa-4b7d-ba27-ee2fee3865fd",
   "metadata": {},
   "outputs": [],
   "source": [
    "# Preprocessing for CNN\n",
    "images = images / 255.0  # Normalize\n",
    "X_train_cnn, X_test_cnn, y_train_cnn, y_test_cnn = train_test_split(\n",
    "    images, labels, test_size=0.2, random_state=42, stratify=labels\n",
    ")"
   ]
  },
  {
   "cell_type": "code",
   "execution_count": 27,
   "id": "4b753959-b6a7-4985-9058-c180d3a92897",
   "metadata": {},
   "outputs": [],
   "source": [
    "# One-hot encode labels for classification\n",
    "y_train_cnn = to_categorical(y_train_cnn)\n",
    "y_test_cnn = to_categorical(y_test_cnn)"
   ]
  },
  {
   "cell_type": "code",
   "execution_count": 28,
   "id": "aeaa80ca-3a52-4dee-98e9-f97a6694d03b",
   "metadata": {},
   "outputs": [],
   "source": [
    " #Define Encoder\n",
    "input_img = Input(shape=(128, 128, 3))\n",
    "\n",
    "x = Conv2D(32, (3, 3), activation='relu', padding='same')(input_img)\n",
    "x = MaxPooling2D((2, 2), padding='same')(x)\n",
    "\n",
    "x = Conv2D(64, (3, 3), activation='relu', padding='same')(x)\n",
    "encoded = MaxPooling2D((2, 2), padding='same')(x)"
   ]
  },
  {
   "cell_type": "code",
   "execution_count": 29,
   "id": "6dcf2a88-c847-4f35-8924-07b43e604c4d",
   "metadata": {},
   "outputs": [],
   "source": [
    "# Define Decoder\n",
    "x = Conv2D(64, (3, 3), activation='relu', padding='same')(encoded)\n",
    "x = UpSampling2D((2, 2))(x)\n",
    "\n",
    "x = Conv2D(32, (3, 3), activation='relu', padding='same')(x)\n",
    "x = UpSampling2D((2, 2))(x)\n",
    "\n",
    "reconstructed = Conv2D(3, (3, 3), activation='sigmoid', padding='same', name='reconstructed')(x)"
   ]
  },
  {
   "cell_type": "code",
   "execution_count": 30,
   "id": "cf9eddfa-3e80-4384-88b5-38793c06f871",
   "metadata": {},
   "outputs": [],
   "source": [
    "# Classifier Branch\n",
    "flat = Flatten()(encoded)\n",
    "fc = Dense(64, activation='relu')(flat)\n",
    "drop = Dropout(0.5)(fc)\n",
    "output_class = Dense(2, activation='softmax', name='classification')(drop)"
   ]
  },
  {
   "cell_type": "code",
   "execution_count": 31,
   "id": "a5933ce0-3137-4343-b5b1-9c3a73c24402",
   "metadata": {},
   "outputs": [],
   "source": [
    "# Build and Compile Model\n",
    "model = Model(inputs=input_img, outputs=[reconstructed, output_class])\n",
    "model.compile(\n",
    "    optimizer='adam',\n",
    "    loss={'reconstructed': 'mse', 'classification': 'categorical_crossentropy'},\n",
    "    metrics={'classification': 'accuracy'}\n",
    ")"
   ]
  },
  {
   "cell_type": "code",
   "execution_count": 32,
   "id": "e65f6355-4b64-402b-a6da-078605beecd6",
   "metadata": {},
   "outputs": [
    {
     "name": "stdout",
     "output_type": "stream",
     "text": [
      "Epoch 1/10\n",
      "\u001b[1m92/92\u001b[0m \u001b[32m━━━━━━━━━━━━━━━━━━━━\u001b[0m\u001b[37m\u001b[0m \u001b[1m170s\u001b[0m 1s/step - classification_accuracy: 0.9664 - classification_loss: 0.1731 - loss: 0.2633 - reconstructed_loss: 0.0902 - val_classification_accuracy: 0.9877 - val_classification_loss: 0.0437 - val_loss: 0.0614 - val_reconstructed_loss: 0.0148\n",
      "Epoch 2/10\n",
      "\u001b[1m92/92\u001b[0m \u001b[32m━━━━━━━━━━━━━━━━━━━━\u001b[0m\u001b[37m\u001b[0m \u001b[1m125s\u001b[0m 1s/step - classification_accuracy: 0.9836 - classification_loss: 0.0565 - loss: 0.0707 - reconstructed_loss: 0.0141 - val_classification_accuracy: 0.9938 - val_classification_loss: 0.0158 - val_loss: 0.0240 - val_reconstructed_loss: 0.0097\n",
      "Epoch 3/10\n",
      "\u001b[1m92/92\u001b[0m \u001b[32m━━━━━━━━━━━━━━━━━━━━\u001b[0m\u001b[37m\u001b[0m \u001b[1m123s\u001b[0m 1s/step - classification_accuracy: 0.9918 - classification_loss: 0.0191 - loss: 0.0279 - reconstructed_loss: 0.0088 - val_classification_accuracy: 0.9969 - val_classification_loss: 0.0066 - val_loss: 0.0131 - val_reconstructed_loss: 0.0067\n",
      "Epoch 4/10\n",
      "\u001b[1m92/92\u001b[0m \u001b[32m━━━━━━━━━━━━━━━━━━━━\u001b[0m\u001b[37m\u001b[0m \u001b[1m125s\u001b[0m 1s/step - classification_accuracy: 0.9923 - classification_loss: 0.0180 - loss: 0.0253 - reconstructed_loss: 0.0073 - val_classification_accuracy: 1.0000 - val_classification_loss: 0.0035 - val_loss: 0.0098 - val_reconstructed_loss: 0.0062\n",
      "Epoch 5/10\n",
      "\u001b[1m92/92\u001b[0m \u001b[32m━━━━━━━━━━━━━━━━━━━━\u001b[0m\u001b[37m\u001b[0m \u001b[1m129s\u001b[0m 1s/step - classification_accuracy: 0.9971 - classification_loss: 0.0069 - loss: 0.0131 - reconstructed_loss: 0.0062 - val_classification_accuracy: 1.0000 - val_classification_loss: 0.0288 - val_loss: 0.0333 - val_reconstructed_loss: 0.0095\n",
      "Epoch 6/10\n",
      "\u001b[1m92/92\u001b[0m \u001b[32m━━━━━━━━━━━━━━━━━━━━\u001b[0m\u001b[37m\u001b[0m \u001b[1m124s\u001b[0m 1s/step - classification_accuracy: 0.9962 - classification_loss: 0.0226 - loss: 0.0319 - reconstructed_loss: 0.0094 - val_classification_accuracy: 1.0000 - val_classification_loss: 0.0014 - val_loss: 0.0068 - val_reconstructed_loss: 0.0059\n",
      "Epoch 7/10\n",
      "\u001b[1m92/92\u001b[0m \u001b[32m━━━━━━━━━━━━━━━━━━━━\u001b[0m\u001b[37m\u001b[0m \u001b[1m136s\u001b[0m 1s/step - classification_accuracy: 0.9972 - classification_loss: 0.0106 - loss: 0.0167 - reconstructed_loss: 0.0061 - val_classification_accuracy: 1.0000 - val_classification_loss: 0.0143 - val_loss: 0.0178 - val_reconstructed_loss: 0.0063\n",
      "Epoch 8/10\n",
      "\u001b[1m92/92\u001b[0m \u001b[32m━━━━━━━━━━━━━━━━━━━━\u001b[0m\u001b[37m\u001b[0m \u001b[1m125s\u001b[0m 1s/step - classification_accuracy: 0.9968 - classification_loss: 0.0087 - loss: 0.0145 - reconstructed_loss: 0.0058 - val_classification_accuracy: 1.0000 - val_classification_loss: 0.0012 - val_loss: 0.0061 - val_reconstructed_loss: 0.0050\n",
      "Epoch 9/10\n",
      "\u001b[1m92/92\u001b[0m \u001b[32m━━━━━━━━━━━━━━━━━━━━\u001b[0m\u001b[37m\u001b[0m \u001b[1m124s\u001b[0m 1s/step - classification_accuracy: 0.9975 - classification_loss: 0.0084 - loss: 0.0135 - reconstructed_loss: 0.0051 - val_classification_accuracy: 1.0000 - val_classification_loss: 0.0011 - val_loss: 0.0061 - val_reconstructed_loss: 0.0052\n",
      "Epoch 10/10\n",
      "\u001b[1m92/92\u001b[0m \u001b[32m━━━━━━━━━━━━━━━━━━━━\u001b[0m\u001b[37m\u001b[0m \u001b[1m123s\u001b[0m 1s/step - classification_accuracy: 0.9988 - classification_loss: 0.0082 - loss: 0.0134 - reconstructed_loss: 0.0052 - val_classification_accuracy: 1.0000 - val_classification_loss: 8.0377e-04 - val_loss: 0.0053 - val_reconstructed_loss: 0.0046\n"
     ]
    }
   ],
   "source": [
    "# Train the Model\n",
    "history = model.fit(\n",
    "    X_train_cnn,\n",
    "    {'reconstructed': X_train_cnn, 'classification': y_train_cnn},\n",
    "    epochs=10,\n",
    "    batch_size=32,\n",
    "    validation_split=0.1\n",
    ")"
   ]
  },
  {
   "cell_type": "code",
   "execution_count": 33,
   "id": "c97e78de-ce4f-4838-9651-c54412242c9f",
   "metadata": {},
   "outputs": [
    {
     "name": "stdout",
     "output_type": "stream",
     "text": [
      "\u001b[1m26/26\u001b[0m \u001b[32m━━━━━━━━━━━━━━━━━━━━\u001b[0m\u001b[37m\u001b[0m \u001b[1m13s\u001b[0m 491ms/step - classification_accuracy: 1.0000 - classification_loss: 6.7443e-04 - loss: 0.0056 - reconstructed_loss: 0.0049\n",
      "\n",
      "Test Accuracy (Classification): 100.00%\n"
     ]
    }
   ],
   "source": [
    "metrics = model.evaluate(X_test_cnn, {'reconstructed': X_test_cnn, 'classification': y_test_cnn}, return_dict=True)\n",
    "print(f\"\\nTest Accuracy (Classification): {metrics['classification_accuracy'] * 100:.2f}%\")"
   ]
  },
  {
   "cell_type": "code",
   "execution_count": 34,
   "id": "a1c33497-f72e-449e-b82a-a90faa658e0e",
   "metadata": {},
   "outputs": [],
   "source": [
    "# Actual labels (if one-hot encoded, convert to integer)\n",
    "if y_test_cnn.ndim > 1:\n",
    "    y_true_cnn = np.argmax(y_test_cnn, axis=1)\n",
    "else:\n",
    "    y_true_cnn = y_test_cnn"
   ]
  },
  {
   "cell_type": "code",
   "execution_count": 36,
   "id": "54182b3c-21f6-46b7-887b-07f567bda03a",
   "metadata": {},
   "outputs": [
    {
     "name": "stdout",
     "output_type": "stream",
     "text": [
      "\u001b[1m26/26\u001b[0m \u001b[32m━━━━━━━━━━━━━━━━━━━━\u001b[0m\u001b[37m\u001b[0m \u001b[1m13s\u001b[0m 479ms/step\n",
      "\n",
      "Classification Report:\n",
      "               precision    recall  f1-score   support\n",
      "\n",
      "           0       1.00      1.00      1.00        11\n",
      "           1       1.00      1.00      1.00       799\n",
      "\n",
      "    accuracy                           1.00       810\n",
      "   macro avg       1.00      1.00      1.00       810\n",
      "weighted avg       1.00      1.00      1.00       810\n",
      "\n",
      "Confusion Matrix:\n",
      " [[ 11   0]\n",
      " [  0 799]]\n"
     ]
    }
   ],
   "source": [
    "# Predict\n",
    "y_pred_probs = model.predict(X_test_cnn)[1]\n",
    "y_pred = np.argmax(y_pred_probs, axis=1)\n",
    "\n",
    "# Print classification metrics\n",
    "print(\"\\nClassification Report:\\n\", classification_report(y_test_pca, y_pred))\n",
    "print(\"Confusion Matrix:\\n\", confusion_matrix(y_test_pca, y_pred))"
   ]
  },
  {
   "cell_type": "code",
   "execution_count": 37,
   "id": "13cfbbff-5ddc-4d83-a949-74a2d7af86ea",
   "metadata": {},
   "outputs": [],
   "source": [
    "import matplotlib.pyplot as plt\n",
    "import seaborn as sns"
   ]
  },
  {
   "cell_type": "code",
   "execution_count": 39,
   "id": "fa0a23fa-ada5-47d7-b023-ad25e6631e31",
   "metadata": {},
   "outputs": [
    {
     "data": {
      "image/png": "[encoded data removed]",
      "text/plain": [
       "<Figure size 600x400 with 2 Axes>"
      ]
     },
     "metadata": {},
     "output_type": "display_data"
    }
   ],
   "source": [
    "# Confusion matrix\n",
    "cm = confusion_matrix(y_test_pca, y_pred)\n",
    "\n",
    "# Class names\n",
    "class_names = ['Clean', 'Stego']\n",
    "\n",
    "# Plot confusion matrix heatmap\n",
    "plt.figure(figsize=(6, 4))\n",
    "sns.heatmap(cm, annot=True, fmt='d', cmap='Blues',\n",
    "            xticklabels=class_names, yticklabels=class_names)\n",
    "plt.xlabel('Predicted')\n",
    "plt.ylabel('Actual')\n",
    "plt.title('Confusion Matrix - Steganography Detection (CNN)')\n",
    "plt.tight_layout()\n",
    "plt.show()"
   ]
  }
 ],
 "metadata": {
  "kernelspec": {
   "display_name": "Python 3 (ipykernel)",
   "language": "python",
   "name": "python3"
  },
  "language_info": {
   "codemirror_mode": {
    "name": "ipython",
    "version": 3
   },
   "file_extension": ".py",
   "mimetype": "text/x-python",
   "name": "python",
   "nbconvert_exporter": "python",
   "pygments_lexer": "ipython3",
   "version": "3.12.7"
  }
 },
 "nbformat": 4,
 "nbformat_minor": 5
}
